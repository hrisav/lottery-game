{
 "cells": [
  {
   "cell_type": "markdown",
   "metadata": {},
   "source": [
    "# BANGAL BRIGADE CUP\n",
    "\n",
    "## Welcome to Manager:Captain Lottery!!!"
   ]
  },
  {
   "cell_type": "code",
   "execution_count": 1,
   "metadata": {},
   "outputs": [],
   "source": [
    "import random\n",
    "import time\n",
    "import pandas as pd\n",
    "import numpy as np"
   ]
  },
  {
   "cell_type": "code",
   "execution_count": 2,
   "metadata": {},
   "outputs": [
    {
     "name": "stdout",
     "output_type": "stream",
     "text": [
      "********\n",
      "TEAM 1: \n",
      "********\n",
      "\n",
      "Manager:  Mr A Chowdhury\n",
      "Captain:  Shreyan\n"
     ]
    }
   ],
   "source": [
    "managers = ['Mr K Ray', 'Mr K Dutta', 'Mr A Chowdhury', 'Mr S Sarkar']\n",
    "captains = ['Trinath', 'Shreyan', 'Roy', 'Vishal']\n",
    "\n",
    "m1 = random.choice(managers)\n",
    "c1 = random.choice(captains)\n",
    "\n",
    "def timer(t):  \n",
    "    while (t): \n",
    "        mins, secs = divmod(t, 60) \n",
    "        timer = '{:02d}:{:02d}'.format(mins, secs) \n",
    "        print(timer, end=\"\\r\") \n",
    "        time.sleep(1) \n",
    "        t -= 1  \n",
    "    print(\"********\")    \n",
    "    print(\"TEAM 1: \")\n",
    "    print(\"********\")\n",
    "    print()\n",
    "    print(\"Manager: \", m1)\n",
    "    print(\"Captain: \", c1)\n",
    "\n",
    "for i in managers:\n",
    "    if i==m1:\n",
    "        managers.remove(m1)\n",
    "\n",
    "for i in captains:\n",
    "    if i==c1:\n",
    "        captains.remove(c1)\n",
    "\n",
    "timer(5)"
   ]
  },
  {
   "cell_type": "code",
   "execution_count": 3,
   "metadata": {},
   "outputs": [
    {
     "name": "stdout",
     "output_type": "stream",
     "text": [
      "********\n",
      "TEAM 2: \n",
      "********\n",
      "\n",
      "Manager:  Mr K Dutta\n",
      "Captain:  Roy\n"
     ]
    }
   ],
   "source": [
    "m2 = random.choice(managers)\n",
    "c2 = random.choice(captains)\n",
    "\n",
    "def timer(t):  \n",
    "    while (t): \n",
    "        mins, secs = divmod(t, 60) \n",
    "        timer = '{:02d}:{:02d}'.format(mins, secs) \n",
    "        print(timer, end=\"\\r\") \n",
    "        time.sleep(1) \n",
    "        t -= 1  \n",
    "    print(\"********\")    \n",
    "    print(\"TEAM 2: \")\n",
    "    print(\"********\")\n",
    "    print()\n",
    "    print(\"Manager: \", m2)\n",
    "    print(\"Captain: \", c2)\n",
    "\n",
    "for i in managers:\n",
    "    if i==m2:\n",
    "        managers.remove(m2)\n",
    "\n",
    "for i in captains:\n",
    "    if i==c2:\n",
    "        captains.remove(c2)\n",
    "\n",
    "timer(5)"
   ]
  },
  {
   "cell_type": "code",
   "execution_count": 4,
   "metadata": {},
   "outputs": [
    {
     "name": "stdout",
     "output_type": "stream",
     "text": [
      "********\n",
      "TEAM 3: \n",
      "********\n",
      "\n",
      "Manager:  Mr S Sarkar\n",
      "Captain:  Vishal\n"
     ]
    }
   ],
   "source": [
    "m3 = random.choice(managers)\n",
    "c3 = random.choice(captains)\n",
    "\n",
    "def timer(t):  \n",
    "    while (t): \n",
    "        mins, secs = divmod(t, 60) \n",
    "        timer = '{:02d}:{:02d}'.format(mins, secs) \n",
    "        print(timer, end=\"\\r\") \n",
    "        time.sleep(1) \n",
    "        t -= 1  \n",
    "    print(\"********\")    \n",
    "    print(\"TEAM 3: \")\n",
    "    print(\"********\")\n",
    "    print()\n",
    "    print(\"Manager: \", m3)\n",
    "    print(\"Captain: \", c3)\n",
    "\n",
    "for i in managers:\n",
    "    if i==m3:\n",
    "        managers.remove(m3)\n",
    "\n",
    "for i in captains:\n",
    "    if i==c3:\n",
    "        captains.remove(c3)\n",
    "\n",
    "timer(5)"
   ]
  },
  {
   "cell_type": "code",
   "execution_count": 5,
   "metadata": {},
   "outputs": [
    {
     "name": "stdout",
     "output_type": "stream",
     "text": [
      "********\n",
      "TEAM 4: \n",
      "********\n",
      "\n",
      "Manager:  Mr K Ray\n",
      "Captain:  Trinath\n"
     ]
    }
   ],
   "source": [
    "m4 = random.choice(managers)\n",
    "c4 = random.choice(captains)\n",
    "\n",
    "def timer(t):  \n",
    "    while (t): \n",
    "        mins, secs = divmod(t, 60) \n",
    "        timer = '{:02d}:{:02d}'.format(mins, secs) \n",
    "        print(timer, end=\"\\r\") \n",
    "        time.sleep(1) \n",
    "        t -= 1  \n",
    "    print(\"********\")    \n",
    "    print(\"TEAM 4: \")\n",
    "    print(\"********\")\n",
    "    print()\n",
    "    print(\"Manager: \", m4)\n",
    "    print(\"Captain: \", c4)\n",
    "\n",
    "for i in managers:\n",
    "    if i==m4:\n",
    "        managers.remove(m4)\n",
    "\n",
    "for i in captains:\n",
    "    if i==c4:\n",
    "        captains.remove(c4)\n",
    "\n",
    "timer(2)"
   ]
  },
  {
   "cell_type": "code",
   "execution_count": 6,
   "metadata": {
    "scrolled": true
   },
   "outputs": [
    {
     "name": "stdout",
     "output_type": "stream",
     "text": [
      "**********************\n",
      "FINAL LOTTERY RESULT: \n",
      "**********************\n",
      "\n",
      "          MANAGER  CAPTAIN\n",
      "1  Mr A Chowdhury  Shreyan\n",
      "2      Mr K Dutta      Roy\n",
      "3     Mr S Sarkar   Vishal\n",
      "4        Mr K Ray  Trinath\n",
      "\n",
      "All the best everyone!!\n"
     ]
    }
   ],
   "source": [
    "table = {\n",
    "    'MANAGER': [m1,m2,m3,m4],\n",
    "    'CAPTAIN': [c1,c2,c3,c4]\n",
    "}\n",
    "\n",
    "df = pd.DataFrame(table, columns = ['MANAGER', 'CAPTAIN'])\n",
    "df.index = np.arange(1, len(df)+1)\n",
    "\n",
    "print(\"**********************\")\n",
    "print('FINAL LOTTERY RESULT: ')\n",
    "print(\"**********************\")\n",
    "print()\n",
    "print(df)\n",
    "print()\n",
    "print(\"All the best everyone!!\")"
   ]
  },
  {
   "cell_type": "markdown",
   "metadata": {},
   "source": [
    "## See you soon!\n",
    "### Date - 28 Feb 2021\n",
    "### Venue - VPlay"
   ]
  }
 ],
 "metadata": {
  "kernelspec": {
   "display_name": "Python 3",
   "language": "python",
   "name": "python3"
  },
  "language_info": {
   "codemirror_mode": {
    "name": "ipython",
    "version": 3
   },
   "file_extension": ".py",
   "mimetype": "text/x-python",
   "name": "python",
   "nbconvert_exporter": "python",
   "pygments_lexer": "ipython3",
   "version": "3.8.2"
  }
 },
 "nbformat": 4,
 "nbformat_minor": 4
}
